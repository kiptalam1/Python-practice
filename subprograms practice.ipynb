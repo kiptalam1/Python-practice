{
 "cells": [
  {
   "cell_type": "markdown",
   "id": "daf09587-cff8-40b0-aaca-41cf6776a439",
   "metadata": {},
   "source": [
    "Write a Python function called calculate_discounted_price that takes two parameters: original_price and discount_percentage. This function should calculate and return the discounted price after applying the discount_percentage to the original_price.\r\n",
    "\r\n"
   ]
  },
  {
   "cell_type": "code",
   "execution_count": 1,
   "id": "9faadd0d-750e-4e95-b86a-66937e4d6c5e",
   "metadata": {},
   "outputs": [
    {
     "name": "stdout",
     "output_type": "stream",
     "text": [
      "3420.00\n"
     ]
    }
   ],
   "source": [
    "def calculate_discounted_price(original_price, discount_percent):\n",
    "    discounted_price = ((100 - discount_percent) * original_price) / 100\n",
    "    return \"%.2f\"% discounted_price\n",
    "\n",
    "answer = (calculate_discounted_price(4560, 25))\n",
    "print(answer)"
   ]
  },
  {
   "cell_type": "markdown",
   "id": "02fda4c9-97d2-4891-b7da-1eb329b5587d",
   "metadata": {},
   "source": [
    "Write a Python function that takes two numbers as parameters and returns their sum."
   ]
  },
  {
   "cell_type": "code",
   "execution_count": 2,
   "id": "b349c28a-8cac-499e-9920-a2d0cb290c9d",
   "metadata": {},
   "outputs": [
    {
     "name": "stdout",
     "output_type": "stream",
     "text": [
      "11\n"
     ]
    }
   ],
   "source": [
    "def add(num1, num2):\n",
    "    return num1 + num2\n",
    "\n",
    "ans = add(6, 5)\n",
    "print(ans)   "
   ]
  },
  {
   "cell_type": "markdown",
   "id": "8b33b917-9553-419d-a118-4a4c8f2702ab",
   "metadata": {},
   "source": [
    "Write a Python function that takes a string as a parameter and prints it."
   ]
  },
  {
   "cell_type": "code",
   "execution_count": 3,
   "id": "498739ff-761d-4326-a249-3112d249ae80",
   "metadata": {},
   "outputs": [
    {
     "name": "stdout",
     "output_type": "stream",
     "text": [
      "hello world\n"
     ]
    }
   ],
   "source": [
    "def stringg(str):\n",
    "    print (str)\n",
    "\n",
    "stringg('hello world')"
   ]
  },
  {
   "cell_type": "markdown",
   "id": "c56b8a2b-ff57-404f-a8ca-151e1a4c8b34",
   "metadata": {},
   "source": [
    "Write a Python function that takes a list of numbers as a parameter and returns the sum of all the numbers."
   ]
  },
  {
   "cell_type": "code",
   "execution_count": 4,
   "id": "12dccb9f-6a8a-4d46-acf6-7df8b9faa74c",
   "metadata": {},
   "outputs": [
    {
     "name": "stdout",
     "output_type": "stream",
     "text": [
      "21\n"
     ]
    }
   ],
   "source": [
    "def list_addition(numbers):\n",
    "    total = 0\n",
    "    for item in numbers:\n",
    "        total += item\n",
    "\n",
    "    return total\n",
    "\n",
    "numberslist = [1,2,3,4,5,6]\n",
    "ans = list_addition(numberslist)\n",
    "print(ans)"
   ]
  },
  {
   "cell_type": "markdown",
   "id": "e11d0ea0-0a81-4704-9c39-a1d2511e87bf",
   "metadata": {},
   "source": [
    "Write a Python function that takes a list of strings as a parameter and prints each string."
   ]
  },
  {
   "cell_type": "code",
   "execution_count": 5,
   "id": "a041c41f-380a-4893-ad2f-024dfc7ae186",
   "metadata": {},
   "outputs": [
    {
     "name": "stdout",
     "output_type": "stream",
     "text": [
      "good\n",
      "morning\n",
      "world\n"
     ]
    }
   ],
   "source": [
    "def print_string(strings):\n",
    "    for string in strings:\n",
    "        print(string)\n",
    "stringlist = ['good', 'morning', 'world']\n",
    "print_string(stringlist)"
   ]
  },
  {
   "cell_type": "markdown",
   "id": "bc8083d9-21a3-4c68-9634-c7ad5834093f",
   "metadata": {},
   "source": [
    "Write a Python function that takes a number as a parameter and returns its factorial."
   ]
  },
  {
   "cell_type": "code",
   "execution_count": 6,
   "id": "f70af95a-6067-4a57-bb0c-f1a3eb5e9f29",
   "metadata": {},
   "outputs": [
    {
     "name": "stdout",
     "output_type": "stream",
     "text": [
      "720\n"
     ]
    }
   ],
   "source": [
    "import math\n",
    "def number_factorial(number):\n",
    "    return math.factorial(number)\n",
    "\n",
    "ans = number_factorial(6)\n",
    "print(ans)"
   ]
  },
  {
   "cell_type": "markdown",
   "id": "aa89b695-b977-49b4-b45f-99378cdda609",
   "metadata": {},
   "source": [
    "Write a Python function that takes a string as a parameter and returns True if it's a palindrome, False otherwise."
   ]
  },
  {
   "cell_type": "code",
   "execution_count": 7,
   "id": "7229453b-220b-4ced-bb9c-15d04e2d0ea1",
   "metadata": {},
   "outputs": [
    {
     "name": "stdout",
     "output_type": "stream",
     "text": [
      "True\n"
     ]
    }
   ],
   "source": [
    "def palindrome(string):\n",
    "    string = string.replace(' ', '').lower()\n",
    "    return string == string[::-1]\n",
    "\n",
    "inputstring = 'tenet'\n",
    "print(palindrome(inputstring))"
   ]
  },
  {
   "cell_type": "markdown",
   "id": "23f882a6-2154-4462-90b5-509601eec3f7",
   "metadata": {},
   "source": [
    "Write a Python function that takes a list of numbers as a parameter and returns the largest number in the list."
   ]
  },
  {
   "cell_type": "code",
   "execution_count": 8,
   "id": "ec1700ae-c0af-4d44-a3e1-012bd2707042",
   "metadata": {},
   "outputs": [
    {
     "name": "stdout",
     "output_type": "stream",
     "text": [
      "23\n"
     ]
    }
   ],
   "source": [
    "def is_max(numbers):\n",
    "    largest = 0\n",
    "    for number in numbers:\n",
    "        if number > largest:\n",
    "            largest = number\n",
    "\n",
    "    return largest\n",
    "\n",
    "numlist = [1,2,3,5,23,6,7,8,9]\n",
    "print(is_max(numlist))"
   ]
  },
  {
   "cell_type": "markdown",
   "id": "00c6c9bb-1a4f-4405-a924-6b7a4ed96ffc",
   "metadata": {},
   "source": [
    "Write a Python function that takes a string as a parameter and returns the number of vowels in the string."
   ]
  },
  {
   "cell_type": "code",
   "execution_count": 9,
   "id": "71019760-33c1-4a42-b0d1-87f24aebd043",
   "metadata": {},
   "outputs": [
    {
     "name": "stdout",
     "output_type": "stream",
     "text": [
      "3\n"
     ]
    }
   ],
   "source": [
    "def count_vowels(string):\n",
    "    vowels = {'a', 'e', 'i', 'o', 'u'}\n",
    "    count = sum(1 for char in string.lower() if char in vowels)\n",
    "    return count\n",
    "\n",
    "\n",
    "input_string = \"Hello World\"\n",
    "print(count_vowels(input_string))"
   ]
  },
  {
   "cell_type": "code",
   "execution_count": null,
   "id": "fd73da72-d490-4c52-bda1-af06630f570a",
   "metadata": {},
   "outputs": [],
   "source": []
  }
 ],
 "metadata": {
  "kernelspec": {
   "display_name": "Python 3 (ipykernel)",
   "language": "python",
   "name": "python3"
  },
  "language_info": {
   "codemirror_mode": {
    "name": "ipython",
    "version": 3
   },
   "file_extension": ".py",
   "mimetype": "text/x-python",
   "name": "python",
   "nbconvert_exporter": "python",
   "pygments_lexer": "ipython3",
   "version": "3.11.3"
  }
 },
 "nbformat": 4,
 "nbformat_minor": 5
}
